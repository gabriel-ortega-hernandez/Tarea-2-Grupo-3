{
 "cells": [
  {
   "cell_type": "markdown",
   "metadata": {},
   "source": [
    "# Tarea 2 - Procesamiento distribuido y redes neuronales profundas"
   ]
  },
  {
   "cell_type": "markdown",
   "metadata": {},
   "source": [
    "## P1. Carga y transformacion de datos "
   ]
  },
  {
   "cell_type": "code",
   "execution_count": 23,
   "metadata": {},
   "outputs": [
    {
     "data": {
      "text/plain": [
       "<torch._C.Generator at 0x1c743796bd0>"
      ]
     },
     "execution_count": 23,
     "metadata": {},
     "output_type": "execute_result"
    }
   ],
   "source": [
    "import os \n",
    "import numpy as np\n",
    "import pandas as pd\n",
    "import matplotlib.pyplot as plt\n",
    "import seaborn as sns\n",
    "import PIL\n",
    "from PIL import Image\n",
    "import skimage.io\n",
    "from skimage import transform\n",
    "import torch\n",
    "import torchvision\n",
    "from torchvision import datasets, transforms\n",
    "from sklearn.model_selection import train_test_split\n",
    "from torch.utils.data import random_split, DataLoader, Sampler, SubsetRandomSampler,RandomSampler   \n",
    "from torchvision.datasets import DatasetFolder\n",
    "# Path del directorio\n",
    "path_dir = os.getcwd()\n",
    "# Se asigna un valor de reproductibilidad\n",
    "torch.manual_seed(6202)"
   ]
  },
  {
   "cell_type": "markdown",
   "metadata": {},
   "source": [
    "# Construcción de función loader"
   ]
  },
  {
   "cell_type": "code",
   "execution_count": 24,
   "metadata": {},
   "outputs": [],
   "source": [
    "# Función de carga de imagenes de PIL \n",
    "def pil_loader(path):\n",
    "    \"\"\" Entrega una imagen en formato PIL a \n",
    "    partir de un path.\n",
    "    \n",
    "    Args\n",
    "    ----\n",
    "    path: str  \n",
    "        path del origen de la imagen \n",
    "    Returns:\n",
    "        Imagen PIL RGB \n",
    "    \"\"\"\n",
    "    img = Image.open(path)    \n",
    "    if img.mode == 'L':\n",
    "        tensor = transforms.ToTensor()(img)\n",
    "        tensor_RGB = torch.cat((tensor, tensor, tensor), 0)\n",
    "        return transforms.ToPILImage()(tensor_RGB) \n",
    "    else:\n",
    "        return img\n",
    "    \n",
    "# Funcion de carga de imagenes con skimage \n",
    "def skimage_loader(path):\n",
    "    \"\"\" Entrega una imagen en formato array a \n",
    "    partir de un path.\n",
    "    \n",
    "    Args\n",
    "    ----\n",
    "    path: str  \n",
    "        path del origen de la imagen \n",
    "    Returns:\n",
    "        Array de 3 canales compatible con skimage. \n",
    "    \"\"\"\n",
    "    img = skimage.io.imread(fname=(path))    \n",
    "    if len(img.shape) == 2:\n",
    "        img_reshape =  img.reshape((img.shape[0], img.shape[1],1))\n",
    "        img_3_canales = np.concatenate((img_reshape,img_reshape,img_reshape),axis=2)\n",
    "        return img_3_canales \n",
    "    else:\n",
    "        return img"
   ]
  },
  {
   "cell_type": "code",
   "execution_count": 25,
   "metadata": {},
   "outputs": [],
   "source": [
    "# Transformaciones para imagen Pil o array:\n",
    "# funcion para escalar a una imagen de 224x224\n",
    "def Transform_Resize(library = 'PyTorch'):\n",
    "    if library == 'PyTorch':\n",
    "        return transforms.Resize((224, 224))\n",
    "    elif library == 'skimage':\n",
    "        skimage_resize = lambda imagen: transform.resize(imagen, (224, 224))\n",
    "        return skimage_resize\n",
    "\n",
    "# funcion para voltear imagen con probabilidad 0.5\n",
    "def Transform_Flip(library = 'PyTorch'):\n",
    "    if library == 'PyTorch':\n",
    "        return transforms.RandomVerticalFlip(0.5)\n",
    "    elif library == 'skimage':\n",
    "        return lambda imagen: np.flipud(imagen) if (np.random.random()<0.5) else imagen\n",
    "    \n",
    "# Funcion para rotar la imagen con un angulo random entre (-20, 20) \n",
    "def Transform_Rotation(library = 'PyTorch'):\n",
    "    if library == 'PyTorch':\n",
    "        return transforms.RandomRotation((-20, 20))\n",
    "    elif library == 'skimage':\n",
    "        return lambda imagen: transform.rotate(imagen,(np.random.random()*40)-20,resize=False)\n",
    "    \n",
    "# Transformaciones para tensor:\n",
    "# funcion para escalar los valores del brillo de la imagen     \n",
    "def Transform_Scale(tensor, library = 'PyTorch'):\n",
    "    if library == 'PyTorch':\n",
    "        return torch.div(tensor, torch.max(tensor))\n",
    "    elif library == 'skimage':\n",
    "        return tensor / (np.max(tensor))\n",
    "\n",
    "def Transform_Mult(tensor, library = 'PyTorch'):\n",
    "    if library == 'PyTorch':\n",
    "        random_tensor = 0.3*torch.rand((3,224, 224)) + 1.2 \n",
    "        return torch.mul(tensor, random_tensor) \n",
    "    elif library == 'skimage':\n",
    "        random_array = (0.3*np.random.random_sample((224,224,3))) + 1.2 \n",
    "        return np.multiply(tensor, random_array) "
   ]
  },
  {
   "cell_type": "code",
   "execution_count": 26,
   "metadata": {},
   "outputs": [],
   "source": [
    "# Listas de transformaciones\n",
    "transform_torchvision = transforms.Compose([Transform_Resize(),\n",
    "                                Transform_Flip(),\n",
    "                                Transform_Rotation(),\n",
    "                                transforms.ToTensor(),\n",
    "                                transforms.Lambda(lambda x: Transform_Scale(x)),\n",
    "                                transforms.Lambda(lambda x: Transform_Mult(x))]) \n",
    "transform_skimage = transforms.Compose([Transform_Resize('skimage'),\n",
    "                                Transform_Flip('skimage'),\n",
    "                                Transform_Rotation('skimage'),\n",
    "                                transforms.Lambda(lambda x: Transform_Scale(x,'skimage')),\n",
    "                                transforms.Lambda(lambda x: Transform_Mult(x,'skimage')),\n",
    "                                transforms.ToTensor()]) "
   ]
  },
  {
   "cell_type": "code",
   "execution_count": 27,
   "metadata": {},
   "outputs": [],
   "source": [
    "# Funcion que entrega objetos data_set para train y test \n",
    "def loader(data_set_name, image_loader, transform):\n",
    "    if data_set_name == 'Train':\n",
    "        root_path = path_dir + '\\\\Data\\\\chest_xray\\\\train'\n",
    "        # Cargar el data_set train y el data_set test\n",
    "        data_set_train = DatasetFolder(root_path, image_loader,\n",
    "                                       extensions=('.jpeg', '.JPEG'),\n",
    "                                       transform = transform)\n",
    "        return data_set_train\n",
    "    elif data_set_name == 'Test':\n",
    "        root_path = path_dir + '\\\\Data\\\\chest_xray\\\\test'\n",
    "        # Cargar el data_set train y el data_set test\n",
    "        data_set_test = DatasetFolder(root_path, image_loader,\n",
    "                                       extensions=('.jpeg', '.JPEG'),\n",
    "                                       transform = transform)\n",
    "        return data_set_test"
   ]
  },
  {
   "cell_type": "code",
   "execution_count": 28,
   "metadata": {},
   "outputs": [],
   "source": [
    "# Cargar ambos, el data_set train y el data_set test\n",
    "data_set_train = loader('Train', skimage_loader, transform_skimage)\n",
    "data_test = loader('Test', skimage_loader, transform_skimage)"
   ]
  },
  {
   "cell_type": "markdown",
   "metadata": {},
   "source": [
    "# Visualización de distribución de datos"
   ]
  },
  {
   "cell_type": "code",
   "execution_count": 29,
   "metadata": {},
   "outputs": [
    {
     "data": {
      "image/png": "[encoded data removed]",
      "text/plain": [
       "<Figure size 451.875x360 with 1 Axes>"
      ]
     },
     "metadata": {
      "needs_background": "light"
     },
     "output_type": "display_data"
    }
   ],
   "source": [
    "# Cantidad de muestras en train\n",
    "train_len = len(data_set_train)\n",
    "# Largos de data sets\n",
    "len_train_0 = len([data_set_train.samples[i][1] for i in range(len(data_set_train)) \n",
    "                   if (data_set_train.samples[i][1] == 0)])\n",
    "len_train_1 = len([data_set_train.samples[i][1] for i in range(len(data_set_train)) \n",
    "                   if (data_set_train.samples[i][1] == 1)])\n",
    "len_test_0 = len([data_test.samples[i][1] for i in range(len(data_test)) \n",
    "                   if (data_test.samples[i][1] == 0)])\n",
    "len_test_1 = len([data_test.samples[i][1] for i in range(len(data_test)) \n",
    "                   if (data_test.samples[i][1] == 1)])\n",
    "# plotear distribuciones de datos\n",
    "data_plot = {'Data set':  ['Train','Train','Test','Test'],\n",
    "        'Clase': ['Pneumonia','Normal','Pneumonia','Normal'],\n",
    "        'Cantidad de datos': [len_train_0,len_train_1,len_test_0,len_test_1]}\n",
    "df_plot = pd.DataFrame(data_plot, columns = ['Data set','Clase','Cantidad de datos'])\n",
    "# Plotear gráficos de barra\n",
    "sns.axes_style(\"darkgrid\")\n",
    "sns_plot = sns.catplot(x='Data set', y='Cantidad de datos', hue='Clase', data=df_plot, kind='bar')\n",
    "# sns_plot.savefig(\"Distribución de datos.png\",dpi=400)"
   ]
  },
  {
   "cell_type": "markdown",
   "metadata": {},
   "source": [
    "# Construcción de clase ReplicarMuestreoDePrueba"
   ]
  },
  {
   "cell_type": "code",
   "execution_count": 30,
   "metadata": {},
   "outputs": [],
   "source": [
    "data_train, data_valid = random_split(data_set_train, [int(train_len*0.8),\n",
    "                                                                 train_len - int(train_len*0.8)])"
   ]
  },
  {
   "cell_type": "code",
   "execution_count": 31,
   "metadata": {},
   "outputs": [],
   "source": [
    "class ReplicarMuestreoDePrueba(Sampler):\n",
    "    def __init__(self, etiquetas_prueba, indices_val, etiquetas_val):\n",
    "        self.etiquetas_prueba = etiquetas_prueba\n",
    "        self.indices_val = indices_val \n",
    "        self.etiquetas_val = etiquetas_val\n",
    "        self.indices_val_iter = indices_val \n",
    "        self.val_prob_normal = etiquetas_val.count(0)/len(etiquetas_val)\n",
    "        self.val_prob_pneumo = etiquetas_val.count(1)/len(etiquetas_val)\n",
    "        self.test_prob_normal = etiquetas_prueba.count(0)/len(etiquetas_prueba)\n",
    "        self.test_prob_pneumo = etiquetas_prueba.count(1)/len(etiquetas_prueba)\n",
    "    def __iter__(self):\n",
    "        if self.val_prob_pneumo <= self.test_prob_pneumo:\n",
    "            # etiquetas pneumo a agregar\n",
    "            plus = SubsetRandomSampler(((len(self.etiquetas_val)*self.test_prob_pneumo)\n",
    "                        -self.etiquetas_val.count(1))/(1-self.test_prob_pneumo))\n",
    "            # Agregar 'plus' indices de neumonia uniforme  \n",
    "            indices_val_pneumo = [self.indices_val[i] for i in range(len(self.indices_val)) \n",
    "                                  if self.etiquetas_val[i] == 1]\n",
    "            # Append    \n",
    "            index_plus = np.random.choice(indices_val_pneumo, plus, replace=True)\n",
    "        else:\n",
    "            # agregar normal al neumos\n",
    "            plus = int(((len(self.etiquetas_val)*self.test_prob_normal)\n",
    "                        -self.etiquetas_val.count(0))/(1-self.test_prob_normal))\n",
    "            # Agregar 'plus' indices de normal uniforme  \n",
    "            indices_val_normal = [self.indices_val[i] for i in range(len(self.indices_val)) \n",
    "                                  if self.etiquetas_val[i] == 0]\n",
    "            # Append\n",
    "            index_plus = np.random.choice(indices_val_normal, plus, replace=True)\n",
    "        return iter(self.indices_val_iter + list(index_plus))"
   ]
  },
  {
   "cell_type": "code",
   "execution_count": 32,
   "metadata": {},
   "outputs": [],
   "source": [
    "etiquetas_prueba = data_test.targets\n",
    "indices_val = data_valid.indices\n",
    "etiquetas_val = [data_set_train.targets[i] for i in data_valid.indices] \n",
    "# inicializar iterator para valid\n",
    "RMP = ReplicarMuestreoDePrueba(etiquetas_prueba, indices_val, etiquetas_val)"
   ]
  },
  {
   "cell_type": "code",
   "execution_count": 33,
   "metadata": {},
   "outputs": [],
   "source": [
    "batch_size = 5\n",
    "loader_data_train = DataLoader(data_set_train, batch_size=batch_size,\n",
    "                               sampler= SubsetRandomSampler(data_train.indices))\n",
    "loader_data_valid = DataLoader(data_set_train, batch_size=batch_size, sampler=RMP)\n",
    "loader_data_test = DataLoader(data_test, batch_size=batch_size)"
   ]
  },
  {
   "cell_type": "markdown",
   "metadata": {},
   "source": [
    "# Pruebas de tiempo"
   ]
  },
  {
   "cell_type": "code",
   "execution_count": 34,
   "metadata": {},
   "outputs": [],
   "source": [
    "# Prueba de tiempo\n",
    "def unpacking_dataloader(data_loader, n):\n",
    "    for i_batch, sample_batched in enumerate(data_loader):\n",
    "        if i_batch == n:\n",
    "            break"
   ]
  },
  {
   "cell_type": "code",
   "execution_count": 40,
   "metadata": {},
   "outputs": [],
   "source": [
    "# datasets con skimage y tochvision\n",
    "data_set_skimage = loader('Train', skimage_loader, transform_skimage)\n",
    "data_set_torchvision = loader('Train', pil_loader, transform_torchvision)\n",
    "# dataloader con skimage y dataloader con tochvision\n",
    "batch_size = 5\n",
    "loader_data_skimage = DataLoader(data_set_skimage, batch_size=batch_size, shuffle=True)\n",
    "loader_data_torchvision = DataLoader(data_set_torchvision, batch_size=batch_size, shuffle=True)"
   ]
  },
  {
   "cell_type": "code",
   "execution_count": 46,
   "metadata": {},
   "outputs": [],
   "source": [
    "# Tiempo de carga total para loader_data_skimage \n",
    "# %prun unpacking_dataloader(loader_data_skimage,0)\n",
    "# 7676 function calls (7578 primitive calls) in 0.912 seconds\n",
    "# 10    0.325    0.032    0.325    0.032 {built-in method scipy.ndimage._nd_image.correlate1d}\n",
    "# Tiempo de carga total para loader_data_torchvision \n",
    "# %prun unpacking_dataloader(loader_data_torchvision,0)\n",
    "# 2354 function calls (2351 primitive calls) in 0.486 seconds\n",
    "#  163    0.214    0.001    0.214    0.001 {method 'read' of '_io.BufferedReader' objects}\n",
    "# probar con una imagen \n",
    "path = path_dir + '\\\\Data\\\\chest_xray\\\\train\\\\PNEUMONIA\\\\person1010_virus_1695.jpeg'"
   ]
  },
  {
   "cell_type": "code",
   "execution_count": 47,
   "metadata": {},
   "outputs": [
    {
     "name": "stdout",
     "output_type": "stream",
     "text": [
      " "
     ]
    }
   ],
   "source": [
    "# tiempo en cargar una imagen con pil\n",
    "%prun pil_loader(path)\n",
    "# 175 function calls in 0.012 seconds\n",
    "# 39    0.010    0.000    0.010    0.000 {method 'read' of '_io.BufferedReader' objects}"
   ]
  },
  {
   "cell_type": "code",
   "execution_count": 48,
   "metadata": {},
   "outputs": [
    {
     "name": "stdout",
     "output_type": "stream",
     "text": [
      " "
     ]
    }
   ],
   "source": [
    "# tiempo en cargar una imagen con skimage\n",
    "%prun skimage_loader(path)\n",
    "# 684 function calls in 0.006 seconds\n",
    "# 1    0.002    0.002    0.002    0.002 {method 'decode' of 'ImagingDecoder' objects}"
   ]
  },
  {
   "cell_type": "code",
   "execution_count": 62,
   "metadata": {},
   "outputs": [],
   "source": [
    "# Transform_Resize time\n",
    "pil_image = pil_loader(path)\n",
    "skimage_image = skimage_loader(path)"
   ]
  },
  {
   "cell_type": "code",
   "execution_count": 54,
   "metadata": {},
   "outputs": [
    {
     "name": "stdout",
     "output_type": "stream",
     "text": [
      " "
     ]
    }
   ],
   "source": [
    "%prun Transform_Resize(library = 'PyTorch')(pil_image)\n",
    "# 50 function calls in 0.005 seconds\n",
    "# 1    0.002    0.002    0.002    0.002 {method 'decode' of 'ImagingDecoder' objects}"
   ]
  },
  {
   "cell_type": "code",
   "execution_count": 55,
   "metadata": {},
   "outputs": [
    {
     "name": "stdout",
     "output_type": "stream",
     "text": [
      " "
     ]
    }
   ],
   "source": [
    "%prun Transform_Resize(library = 'skimage')(skimage_image)\n",
    "# 541 function calls (526 primitive calls) in 0.020 seconds\n",
    "# 1    0.008    0.008    0.015    0.015 _warps.py:666(warp)"
   ]
  },
  {
   "cell_type": "code",
   "execution_count": 63,
   "metadata": {},
   "outputs": [],
   "source": [
    "# Transform_Resize time\n",
    "pil_image = Transform_Resize(library = 'PyTorch')(pil_image)\n",
    "skimage_image = Transform_Resize(library = 'skimage')(skimage_image)"
   ]
  },
  {
   "cell_type": "code",
   "execution_count": 57,
   "metadata": {},
   "outputs": [
    {
     "name": "stdout",
     "output_type": "stream",
     "text": [
      " "
     ]
    }
   ],
   "source": [
    "%prun Transform_Flip(library = 'PyTorch')(pil_image)\n",
    "# 17 function calls in 0.000 seconds\n",
    "# 1    0.000    0.000    0.000    0.000 {built-in method builtins.exec}"
   ]
  },
  {
   "cell_type": "code",
   "execution_count": 60,
   "metadata": {},
   "outputs": [
    {
     "name": "stdout",
     "output_type": "stream",
     "text": [
      " "
     ]
    }
   ],
   "source": [
    "%prun Transform_Flip(library = 'skimage')(skimage_image)\n",
    "# 12 function calls in 0.000 seconds\n",
    "# 1    0.000    0.000    0.000    0.000 <ipython-input-25-3e18e36632c1>:15(<lambda>)"
   ]
  },
  {
   "cell_type": "code",
   "execution_count": 64,
   "metadata": {},
   "outputs": [],
   "source": [
    "# Transform_Flip time\n",
    "pil_image = Transform_Flip(library = 'PyTorch')(pil_image)\n",
    "skimage_image = Transform_Flip(library = 'skimage')(skimage_image)"
   ]
  },
  {
   "cell_type": "code",
   "execution_count": 65,
   "metadata": {},
   "outputs": [
    {
     "name": "stdout",
     "output_type": "stream",
     "text": [
      " "
     ]
    }
   ],
   "source": [
    "%prun Transform_Rotation(library = 'PyTorch')(pil_image)\n",
    "# 63 function calls in 0.001 seconds\n",
    "# 1    0.000    0.000    0.000    0.000 {built-in method PIL._imaging.fill}"
   ]
  },
  {
   "cell_type": "code",
   "execution_count": 68,
   "metadata": {},
   "outputs": [
    {
     "name": "stdout",
     "output_type": "stream",
     "text": [
      " "
     ]
    }
   ],
   "source": [
    "%prun Transform_Rotation(library = 'skimage')(skimage_image)\n",
    "# 154 function calls (150 primitive calls) in 0.014 seconds\n",
    "# 1    0.009    0.009    0.014    0.014 _warps.py:666(warp)"
   ]
  },
  {
   "cell_type": "code",
   "execution_count": 69,
   "metadata": {},
   "outputs": [],
   "source": [
    "# Transform_Flip time\n",
    "pil_image = Transform_Rotation(library = 'PyTorch')(pil_image)\n",
    "skimage_image = Transform_Rotation(library = 'skimage')(skimage_image)"
   ]
  },
  {
   "cell_type": "code",
   "execution_count": 70,
   "metadata": {},
   "outputs": [],
   "source": [
    "# imagen a tensor\n",
    "pil_image = transforms.ToTensor()(pil_image)"
   ]
  },
  {
   "cell_type": "code",
   "execution_count": 71,
   "metadata": {},
   "outputs": [
    {
     "name": "stdout",
     "output_type": "stream",
     "text": [
      " "
     ]
    }
   ],
   "source": [
    "%prun Transform_Scale(pil_image, library = 'PyTorch')\n",
    "# 6 function calls in 0.001 seconds\n",
    "# 1    0.001    0.001    0.001    0.001 {built-in method max}"
   ]
  },
  {
   "cell_type": "code",
   "execution_count": 72,
   "metadata": {},
   "outputs": [
    {
     "name": "stdout",
     "output_type": "stream",
     "text": [
      " "
     ]
    }
   ],
   "source": [
    "%prun Transform_Scale(skimage_image, library = 'skimage')\n",
    "# 12 function calls in 0.001 seconds\n",
    "# 1    0.001    0.001    0.001    0.001 <ipython-input-25-3e18e36632c1>:26(Transform_Scale)"
   ]
  },
  {
   "cell_type": "code",
   "execution_count": 73,
   "metadata": {},
   "outputs": [],
   "source": [
    "# Transform_Flip time\n",
    "pil_image = Transform_Scale(pil_image, library = 'PyTorch')\n",
    "skimage_image = Transform_Scale(skimage_image, library = 'skimage')"
   ]
  },
  {
   "cell_type": "code",
   "execution_count": 75,
   "metadata": {},
   "outputs": [
    {
     "name": "stdout",
     "output_type": "stream",
     "text": [
      " "
     ]
    }
   ],
   "source": [
    "%prun Transform_Mult(pil_image, library = 'PyTorch')\n",
    "# 6 function calls in 0.002 seconds\n",
    "# 1    0.001    0.001    0.001    0.001 {built-in method rand}"
   ]
  },
  {
   "cell_type": "code",
   "execution_count": 76,
   "metadata": {},
   "outputs": [
    {
     "name": "stdout",
     "output_type": "stream",
     "text": [
      " "
     ]
    }
   ],
   "source": [
    "%prun Transform_Mult(skimage_image, library = 'skimage')\n",
    "# 5 function calls in 0.005 seconds\n",
    "# 1    0.002    0.002    0.004    0.004 <ipython-input-25-3e18e36632c1>:32(Transform_Mult)"
   ]
  },
  {
   "cell_type": "markdown",
   "metadata": {},
   "source": [
    "# P2"
   ]
  },
  {
   "cell_type": "code",
   "execution_count": null,
   "metadata": {},
   "outputs": [],
   "source": []
  },
  {
   "cell_type": "code",
   "execution_count": null,
   "metadata": {},
   "outputs": [],
   "source": []
  },
  {
   "cell_type": "code",
   "execution_count": null,
   "metadata": {},
   "outputs": [],
   "source": []
  },
  {
   "cell_type": "code",
   "execution_count": null,
   "metadata": {},
   "outputs": [],
   "source": []
  }
 ],
 "metadata": {
  "kernelspec": {
   "display_name": "Python 3",
   "language": "python",
   "name": "python3"
  },
  "language_info": {
   "codemirror_mode": {
    "name": "ipython",
    "version": 3
   },
   "file_extension": ".py",
   "mimetype": "text/x-python",
   "name": "python",
   "nbconvert_exporter": "python",
   "pygments_lexer": "ipython3",
   "version": "3.7.6"
  }
 },
 "nbformat": 4,
 "nbformat_minor": 4
}
