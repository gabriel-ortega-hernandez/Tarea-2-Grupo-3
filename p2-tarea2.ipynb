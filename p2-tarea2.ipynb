{
 "cells": [
  {
   "cell_type": "markdown",
   "metadata": {},
   "source": [
    "# P2 "
   ]
  },
  {
   "cell_type": "code",
   "execution_count": null,
   "metadata": {
    "ExecuteTime": {
     "end_time": "2020-07-15T02:45:15.805476Z",
     "start_time": "2020-07-15T02:45:01.271972Z"
    }
   },
   "outputs": [],
   "source": [
    "import torch\n",
    "import torch.nn as nn\n",
    "import torchvision.datasets as datasets\n",
    "import torch.nn.functional as F\n",
    "\n",
    "from torchvision import models\n",
    "from torch import optim\n",
    "from sklearn.metrics import f1_score"
   ]
  },
  {
   "cell_type": "code",
   "execution_count": null,
   "metadata": {
    "ExecuteTime": {
     "end_time": "2020-07-15T02:22:39.729108Z",
     "start_time": "2020-07-15T02:22:39.722126Z"
    }
   },
   "outputs": [],
   "source": [
    "class DWSepConv2d(torch.nn.Module):\n",
    "    \n",
    "    def __init__(self, in_channels, out_channels, ker, padd, bias=True):\n",
    "        super().__init__()\n",
    "        self.depthwise = nn.Conv2d(in_channels, in_channels, kernel_size=ker, stride=1, padding=padd)\n",
    "        self.pointwise = nn.Conv2d(in_channels, out_channels, kernel_size= ker, stride=1, padding=padd)\n",
    "        \n",
    "    def forward(self, xb):\n",
    "        xb = xb.view(-1, 3, 224, 224)\n",
    "        xb = self.depthwise(xb.float())\n",
    "        xb = F.relu(self.pointwise(xb))\n",
    "        return xb.view(-1, xb.size(1))"
   ]
  },
  {
   "cell_type": "code",
   "execution_count": null,
   "metadata": {
    "ExecuteTime": {
     "end_time": "2020-07-15T02:22:41.277262Z",
     "start_time": "2020-07-15T02:22:41.175754Z"
    }
   },
   "outputs": [],
   "source": [
    "class VGG16DWSep(torch.nn.Module):\n",
    "    \n",
    "    def __init__(self):\n",
    "        super().__init__()\n",
    "        self.conv1 = nn.Conv2d(3, 64, kernel_size=3, stride=1, padding=1)\n",
    "        self.conv2 = nn.Conv2d(64, 64, kernel_size=3, stride=1, padding=1)\n",
    "        self.conv3 = nn.MaxPool2d(kernel_size=2, stride=2, padding=0)\n",
    "        self.conv4 = DWSepConv2d(64, 128, ker=3, padd=1)\n",
    "        self.conv5 = DWSepConv2d(128, 128, ker=3, padd=1)\n",
    "        self.conv6 = nn.MaxPool2d(kernel_size=2, stride=2, padding=0)\n",
    "        self.conv7 = DWSepConv2d(128, 256, ker=3, padd=1)\n",
    "        self.conv8 = nn.BatchNorm2d(256)\n",
    "        self.conv9 = DWSepConv2d(256, 256, ker=3, padd=1)\n",
    "        self.conv10 = nn.BatchNorm2d(256)\n",
    "        self.conv11 = DWSepConv2d(256, 256, ker=3, padd=1)\n",
    "        self.conv12 = nn.MaxPool2d(kernel_size=2, stride=2, padding=0)\n",
    "        self.conv13 = DWSepConv2d(256, 512, ker=3, padd=1)\n",
    "        self.conv14 = nn.BatchNorm2d(512)\n",
    "        self.conv15 = DWSepConv2d(512, 512, ker=3, padd=1)\n",
    "        self.conv16 = nn.BatchNorm2d(512)\n",
    "        self.conv17 = DWSepConv2d(512, 512, ker=3, padd=1)\n",
    "        self.conv18 = nn.MaxPool2d(kernel_size=2, stride=2, padding=0)\n",
    "        self.conv19 = nn.Flatten()\n",
    "        self.conv20 = nn.Linear(512, 1024)\n",
    "        self.conv21 = nn.Dropout(0.7)\n",
    "        self.conv22 = nn.Linear(1024, 512)\n",
    "        self.conv23 = nn.Dropout(0.5)\n",
    "        self.conv24 = nn.Linear(512, 2)\n",
    "        \n",
    "    \n",
    "    def forward(self, xb):\n",
    "        xb = xb.view(-1, 3, 224, 224)\n",
    "        xb = F.relu(self.conv1(xb.float()))\n",
    "        xb = F.relu(self.conv2(xb))\n",
    "        xb = F.relu(self.conv3(xb))\n",
    "        xb = F.relu(self.conv4(xb))\n",
    "        xb = F.relu(self.conv5(xb))\n",
    "        xb = F.relu(self.conv6(xb))\n",
    "        xb = F.relu(self.conv7(xb))\n",
    "        xb = F.relu(self.conv8(xb))\n",
    "        xb = F.relu(self.conv9(xb))\n",
    "        xb = F.relu(self.conv10(xb))\n",
    "        xb = F.relu(self.conv11(xb))\n",
    "        xb = F.relu(self.conv12(xb))\n",
    "        xb = F.relu(self.conv13(xb))\n",
    "        xb = F.relu(self.conv14(xb))\n",
    "        xb = F.relu(self.conv15(xb))\n",
    "        xb = F.relu(self.conv16(xb))\n",
    "        xb = F.relu(self.conv17(xb))\n",
    "        xb = F.relu(self.conv18(xb))\n",
    "        xb = F.relu(self.conv19(xb))\n",
    "        xb = F.relu(self.conv20(xb))\n",
    "        xb = F.relu(self.conv21(xb))\n",
    "        xb = F.relu(self.conv22(xb))\n",
    "        xb = F.relu(self.conv23(xb))\n",
    "        xb = F.relu(self.conv24(xb))\n",
    "        return xb.view(-1, xb.size(1))\n",
    "        "
   ]
  },
  {
   "cell_type": "code",
   "execution_count": null,
   "metadata": {
    "ExecuteTime": {
     "end_time": "2020-07-15T02:22:49.359078Z",
     "start_time": "2020-07-15T02:22:41.297184Z"
    }
   },
   "outputs": [],
   "source": [
    "#Poner pesos de capa pre entrenada\n",
    "\n",
    "VGG16 = models.vgg16(pretrained=True, progress=True)\n",
    "\n",
    "pesos1 = VGG16.features[0].weight\n",
    "pesos1.requires_grad = False\n",
    "\n",
    "pesos2 = VGG16.features[2].weight\n",
    "pesos2.requires_grad = False"
   ]
  },
  {
   "cell_type": "code",
   "execution_count": null,
   "metadata": {
    "ExecuteTime": {
     "end_time": "2020-07-15T02:22:49.386007Z",
     "start_time": "2020-07-15T02:22:49.360075Z"
    }
   },
   "outputs": [],
   "source": [
    "# transferencia de pesos\n",
    "\n",
    "class VGG16DWSep(torch.nn.Module):\n",
    "    \n",
    "    def __init__(self):\n",
    "        super().__init__()\n",
    "        \n",
    "        self.conv1 = nn.Conv2d(3, 64, kernel_size=3, stride=1, padding=1)\n",
    "        self.conv1.weight = pesos1\n",
    "        \n",
    "        self.conv2 = nn.Conv2d(64, 64, kernel_size=3, stride=1, padding=1)\n",
    "        self.conv2.weight = pesos2\n",
    "        \n",
    "        self.conv3 = nn.MaxPool2d(kernel_size=2, stride=2, padding=0)\n",
    "        self.conv4 = DWSepConv2d(64, 128, ker=3, padd=1)\n",
    "        self.conv5 = DWSepConv2d(128, 128, ker=3, padd=1)\n",
    "        self.conv6 = nn.MaxPool2d(kernel_size=2, stride=2, padding=0)\n",
    "        self.conv7 = DWSepConv2d(128, 256, ker=3, padd=1)\n",
    "        self.conv8 = nn.BatchNorm2d(256)\n",
    "        self.conv9 = DWSepConv2d(256, 256, ker=3, padd=1)\n",
    "        self.conv10 = nn.BatchNorm2d(256)\n",
    "        self.conv11 = DWSepConv2d(256, 256, ker=3, padd=1)\n",
    "        self.conv12 = nn.MaxPool2d(kernel_size=2, stride=2, padding=0)\n",
    "        self.conv13 = DWSepConv2d(256, 512, ker=3, padd=1)\n",
    "        self.conv14 = nn.BatchNorm2d(512)\n",
    "        self.conv15 = DWSepConv2d(512, 512, ker=3, padd=1)\n",
    "        self.conv16 = nn.BatchNorm2d(512)\n",
    "        self.conv17 = DWSepConv2d(512, 512, ker=3, padd=1)\n",
    "        self.conv18 = nn.MaxPool2d(kernel_size=2, stride=2, padding=0)\n",
    "        self.conv19 = nn.Flatten()\n",
    "        self.conv20 = nn.Linear(512*81, 1024)\n",
    "        self.conv21 = nn.Dropout(0.7)\n",
    "        self.conv22 = nn.Linear(1024, 512)\n",
    "        self.conv23 = nn.Dropout(0.5)\n",
    "        self.conv24 = nn.Linear(512, 2)\n",
    "        \n",
    "    \n",
    "    def forward(self, xb):\n",
    "        xb = xb.view(-1, 3, 224, 224)\n",
    "        xb = F.relu(self.conv1(xb.float()))\n",
    "        xb = F.relu(self.conv2(xb))\n",
    "        xb = F.relu(self.conv3(xb))\n",
    "        xb = F.relu(self.conv4(xb))\n",
    "        xb = F.relu(self.conv5(xb))\n",
    "        xb = F.relu(self.conv6(xb))\n",
    "        xb = F.relu(self.conv7(xb))\n",
    "        xb = F.relu(self.conv8(xb))\n",
    "        xb = F.relu(self.conv9(xb))\n",
    "        xb = F.relu(self.conv10(xb))\n",
    "        xb = F.relu(self.conv11(xb))\n",
    "        xb = F.relu(self.conv12(xb))\n",
    "        xb = F.relu(self.conv13(xb))\n",
    "        xb = F.relu(self.conv14(xb))\n",
    "        xb = F.relu(self.conv15(xb))\n",
    "        xb = F.relu(self.conv16(xb))\n",
    "        xb = F.relu(self.conv17(xb))\n",
    "        xb = F.relu(self.conv18(xb))\n",
    "        xb = F.relu(self.conv19(xb))\n",
    "        xb = F.relu(self.conv20(xb))\n",
    "        xb = F.relu(self.conv21(xb))\n",
    "        xb = F.relu(self.conv22(xb))\n",
    "        xb = F.relu(self.conv23(xb))\n",
    "        xb = F.relu(self.conv24(xb))\n",
    "        return xb.view(-1, xb.size(1))\n",
    "        "
   ]
  },
  {
   "cell_type": "code",
   "execution_count": null,
   "metadata": {
    "ExecuteTime": {
     "end_time": "2020-07-15T02:22:49.540622Z",
     "start_time": "2020-07-15T02:22:49.388001Z"
    }
   },
   "outputs": [],
   "source": [
    "class EarlyStopping():\n",
    "    \n",
    "    def __init__(self, modo='min', paciencia=5, porcentaje=False, tol=0):\n",
    "        self.modo = modo\n",
    "        self.paciencia = paciencia\n",
    "        self.porcentaje = porcentaje\n",
    "        self.tol = tol\n",
    "        self.best = None\n",
    "        self.stopstep = 0\n",
    "        \n",
    "    def mejor(self, metrica_validacion):\n",
    "        \n",
    "        if self.best == None:\n",
    "            self.best = metrica_validacion\n",
    "            return True\n",
    "        \n",
    "        elif self.porcentaje:\n",
    "            if self.modo == 'min':\n",
    "                if metrica_validacion < self.best*(1-self.tol):\n",
    "                    self.best = metrica_validacion\n",
    "                    self.stopstep = 0 \n",
    "                    return True\n",
    "                else:\n",
    "                    self.stopstep += 1\n",
    "                    return False\n",
    "            else:\n",
    "                if metrica_validacion > self.best*(1+self.tol):\n",
    "                    self.best = metrica_validacion\n",
    "                    self.stopstep = 0\n",
    "                    return True\n",
    "                else: \n",
    "                    self.stopstep += 1\n",
    "                    return False\n",
    "                \n",
    "        else:\n",
    "            if self.modo == 'min':\n",
    "                if metrica_validacion < self.best - self.tol:\n",
    "                    self.best = metrica_validacion\n",
    "                    self.stopstep = 0\n",
    "                    return True\n",
    "                else:\n",
    "                    self.stopstep += 1\n",
    "                    return False\n",
    "            else:\n",
    "                if metrica_validacion > self.best + self.tol:\n",
    "                    self.best = metrica_validacion\n",
    "                    self.stopstep = 0\n",
    "                    return True\n",
    "                else:\n",
    "                    self.stopstep += 1\n",
    "                    return False\n",
    "\n",
    "    def deberia_parar(self, metrica_validacion):\n",
    "        if mejor(self, metrica_validacion):\n",
    "            return False\n",
    "        elif self.stopstep < self.paciencia:\n",
    "            return False\n",
    "        else:\n",
    "            return True\n",
    "        \n",
    "    "
   ]
  },
  {
   "cell_type": "code",
   "execution_count": null,
   "metadata": {
    "ExecuteTime": {
     "end_time": "2020-07-15T03:07:10.401038Z",
     "start_time": "2020-07-15T03:07:10.396050Z"
    }
   },
   "outputs": [],
   "source": [
    "torch.cuda.is_available()"
   ]
  },
  {
   "cell_type": "code",
   "execution_count": null,
   "metadata": {
    "ExecuteTime": {
     "end_time": "2020-07-15T23:34:26.870917Z",
     "start_time": "2020-07-15T23:34:22.644711Z"
    }
   },
   "outputs": [],
   "source": [
    "num_epochs = 8\n",
    "\n",
    "es = EarlyStopping(modo = 'max')\n",
    "\n",
    "f1_list = []\n",
    "accuracy = []\n",
    "losses = []\n",
    "\n",
    "model = VGG16DWSep()\n",
    "model.cuda()\n",
    "opt = optim.Adam(model.parameters(), lr=1e-4, weight_decay=1e-5)\n",
    "loss_func = F.cross_entropy\n",
    "\n",
    "for epoch in range(num_epochs):\n",
    "    \n",
    "    #ciclo de entrenamiento\n",
    "    for i, (images, labels) in enumerate(loader_train):\n",
    "\n",
    "        outputs = model(images.cuda())\n",
    "        loss = loss_func(outputs.cuda(), labels.long().cuda())\n",
    "        losses.append(loss.item())\n",
    "\n",
    "        loss.backward()\n",
    "        opt.step()\n",
    "        opt.zero_grad()\n",
    "    \n",
    "    \n",
    "    #ciclo de validacion\n",
    "    right = 0\n",
    "    total = 0\n",
    "    for i, (images, labels) in enumerate(loader_val):\n",
    "        outputs = model(images.cuda()) \n",
    "        correct += (torch.argmax(outputs, dim=1) == labels.cuda()).float().sum() \n",
    "        total += len(labels)\n",
    "    \n",
    "    metrica_validacion_1 = 100 * right / total\n",
    "    metrica_validacion_1 = metrica_validacion_1.item()\n",
    "    \n",
    "    acurracy.append(metrica_validacion_1)\n",
    "    \n",
    "    if es.deberia_parar(metrica_validacion):\n",
    "        #se cumple el criterio de early stop\n",
    "        break"
   ]
  }
 ],
 "metadata": {
  "kernelspec": {
   "display_name": "Python 3",
   "language": "python",
   "name": "python3"
  },
  "language_info": {
   "codemirror_mode": {
    "name": "ipython",
    "version": 3
   },
   "file_extension": ".py",
   "mimetype": "text/x-python",
   "name": "python",
   "nbconvert_exporter": "python",
   "pygments_lexer": "ipython3",
   "version": "3.7.4"
  },
  "toc": {
   "base_numbering": 1,
   "nav_menu": {},
   "number_sections": true,
   "sideBar": true,
   "skip_h1_title": false,
   "title_cell": "Table of Contents",
   "title_sidebar": "Contents",
   "toc_cell": false,
   "toc_position": {},
   "toc_section_display": true,
   "toc_window_display": false
  }
 },
 "nbformat": 4,
 "nbformat_minor": 2
}
